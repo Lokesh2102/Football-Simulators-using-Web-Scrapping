{
 "cells": [
  {
   "cell_type": "code",
   "execution_count": 1,
   "metadata": {},
   "outputs": [],
   "source": [
    "from bs4 import BeautifulSoup  \n",
    "import requests"
   ]
  },
  {
   "cell_type": "code",
   "execution_count": 2,
   "metadata": {},
   "outputs": [],
   "source": [
    "import random"
   ]
  },
  {
   "cell_type": "code",
   "execution_count": 3,
   "metadata": {},
   "outputs": [],
   "source": [
    "URL='https://en.wikipedia.org/wiki/2019%E2%80%9320_EFL_League_One'\n",
    "content = requests.get(URL)\n",
    "soup = BeautifulSoup(content.text, 'html.parser')\n",
    "te1=soup.find_all(\"table\",class_=\"wikitable sortable\")\n",
    "te2=te1[0].find_all(\"td\")"
   ]
  },
  {
   "cell_type": "code",
   "execution_count": 4,
   "metadata": {},
   "outputs": [],
   "source": [
    "league1=[]\n",
    "for i in range(0,len(te2),4):\n",
    "    league1.append(te2[i].get_text().strip())"
   ]
  },
  {
   "cell_type": "code",
   "execution_count": 5,
   "metadata": {},
   "outputs": [],
   "source": [
    "URL='https://en.wikipedia.org/wiki/2019%E2%80%9320_EFL_League_Two'\n",
    "content = requests.get(URL)\n",
    "soup = BeautifulSoup(content.text, 'html.parser')\n",
    "te1=soup.find_all(\"table\",class_=\"wikitable sortable\")\n",
    "te2=te1[0].find_all(\"td\")"
   ]
  },
  {
   "cell_type": "code",
   "execution_count": 6,
   "metadata": {},
   "outputs": [],
   "source": [
    "league2=[]\n",
    "for i in range(0,len(te2),4):\n",
    "    league2.append(te2[i].get_text().strip())"
   ]
  },
  {
   "cell_type": "code",
   "execution_count": 7,
   "metadata": {},
   "outputs": [],
   "source": [
    "URL='https://en.wikipedia.org/wiki/2019%E2%80%9320_EFL_Championship'\n",
    "content = requests.get(URL)\n",
    "soup = BeautifulSoup(content.text, 'html.parser')\n",
    "te1=soup.find_all(\"table\",class_=\"wikitable sortable\")\n",
    "te2=te1[0].find_all(\"td\")"
   ]
  },
  {
   "cell_type": "code",
   "execution_count": 8,
   "metadata": {},
   "outputs": [],
   "source": [
    "chm=[]\n",
    "for i in range(0,len(te2),4):\n",
    "    chm.append(te2[i].get_text().strip())"
   ]
  },
  {
   "cell_type": "code",
   "execution_count": 9,
   "metadata": {},
   "outputs": [],
   "source": [
    "URL='https://en.wikipedia.org/wiki/2019%E2%80%9320_Premier_League'\n",
    "content = requests.get(URL)\n",
    "soup = BeautifulSoup(content.text, 'html.parser')\n",
    "te1=soup.find_all(\"table\",class_=\"wikitable sortable\")\n",
    "te2=te1[0].find_all(\"td\")"
   ]
  },
  {
   "cell_type": "code",
   "execution_count": 10,
   "metadata": {},
   "outputs": [],
   "source": [
    "pl=[]\n",
    "for i in range(0,len(te2),4):\n",
    "    pl.append(te2[i].get_text().strip())"
   ]
  },
  {
   "cell_type": "code",
   "execution_count": 11,
   "metadata": {},
   "outputs": [
    {
     "data": {
      "text/plain": [
       "48"
      ]
     },
     "execution_count": 11,
     "metadata": {},
     "output_type": "execute_result"
    }
   ],
   "source": [
    "round1=[]\n",
    "for i in league1:\n",
    "    round1.append(i)\n",
    "for i in league2:\n",
    "    round1.append(i)\n",
    "round1.append('Bury')\n",
    "len(round1)"
   ]
  },
  {
   "cell_type": "code",
   "execution_count": 12,
   "metadata": {},
   "outputs": [
    {
     "data": {
      "text/plain": [
       "70"
      ]
     },
     "execution_count": 12,
     "metadata": {},
     "output_type": "execute_result"
    }
   ],
   "source": [
    "for i in range(len(chm)):\n",
    "    round1.append(chm[i])\n",
    "    if(i==21):\n",
    "        break\n",
    "len(round1)"
   ]
  },
  {
   "cell_type": "code",
   "execution_count": 13,
   "metadata": {},
   "outputs": [],
   "source": [
    "match1=[]\n",
    "for i in range(70):\n",
    "    x=random.randint(0,len(round1)-1)\n",
    "    match1.append(round1[x])\n",
    "    del[round1[x]]"
   ]
  },
  {
   "cell_type": "code",
   "execution_count": 14,
   "metadata": {},
   "outputs": [
    {
     "name": "stdout",
     "output_type": "stream",
     "text": [
      "Welcome to Round 1 of League Cup.\n",
      "Reading VS Cheltenham Town .1\n",
      "Newport County VS Crewe Alexandra .1\n",
      "Bristol City VS Oxford United .2\n",
      "AFC Wimbledon VS Coventry City .1\n",
      "Queens Park Rangers VS Blackpool .2\n",
      "Cambridge United VS Sheffield Wednesday .2\n",
      "Mansfield Town VS Morecambe .1\n",
      "Hull City VS Derby County .2\n",
      "Milton Keynes Dons VS Wycombe Wanderers .2\n",
      "Ipswich Town VS Rochdale .1\n",
      "Middlesbrough VS Birmingham City .2\n",
      "Swansea City VS Colchester United .1\n",
      "Burton Albion VS Bolton Wanderers .1\n",
      "Fulham VS Port Vale .1\n",
      "Charlton Athletic VS Stevenage .1\n",
      "Bury VS Swindon Town .1\n",
      "Brentford VS Salford City .1\n",
      "Carlisle United VS Sunderland .2\n",
      "Southend United VS Gillingham .1\n",
      "Rotherham United VS Accrington Stanley .1\n",
      "Doncaster Rovers VS Leyton Orient .1\n",
      "Shrewsbury Town VS Crawley Town .2\n",
      "Leeds United VS Stoke City .1\n",
      "Fleetwood Town VS Bradford City .1\n",
      "Forest Green Rovers VS Walsall .2\n",
      "Northampton Town VS Bristol Rovers .1\n",
      "Barnsley VS Tranmere Rovers .2\n",
      "Oldham Athletic VS Nottingham Forest .1\n",
      "Preston North End VS Cardiff City .2\n",
      "Portsmouth VS Lincoln City .1\n",
      "Luton Town VS Exeter City .1\n",
      "Macclesfield Town VS Plymouth Argyle .1\n",
      "Scunthorpe United VS Huddersfield Town .2\n",
      "Millwall VS Blackburn Rovers .2\n",
      "Peterborough United VS Grimsby Town .1\n"
     ]
    }
   ],
   "source": [
    "round2=[]\n",
    "print(\"Welcome to Round 1 of League Cup.\")\n",
    "for i in range(0,len(match1),2):\n",
    "    print(match1[i],end=\"\")\n",
    "    print(\" VS \",end=\"\")\n",
    "    print(match1[i+1],end=\" .\")\n",
    "    m_r=int(input())\n",
    "    if(m_r==1):\n",
    "        round2.append(match1[i])\n",
    "    else:\n",
    "        round2.append(match1[i+1])"
   ]
  },
  {
   "cell_type": "code",
   "execution_count": 15,
   "metadata": {},
   "outputs": [
    {
     "data": {
      "text/plain": [
       "35"
      ]
     },
     "execution_count": 15,
     "metadata": {},
     "output_type": "execute_result"
    }
   ],
   "source": [
    "len(round2)"
   ]
  },
  {
   "cell_type": "code",
   "execution_count": 16,
   "metadata": {},
   "outputs": [
    {
     "data": {
      "text/plain": [
       "37"
      ]
     },
     "execution_count": 16,
     "metadata": {},
     "output_type": "execute_result"
    }
   ],
   "source": [
    "for i in range(22,24):\n",
    "    round2.append(chm[i])\n",
    "len(round2)"
   ]
  },
  {
   "cell_type": "code",
   "execution_count": 17,
   "metadata": {},
   "outputs": [],
   "source": [
    "for i in range(len(pl)):\n",
    "    if(pl[i]=='Arsenal' or pl[i]=='Chelsea' or pl[i]=='Liverpool' or pl[i]=='Manchester City' or pl[i]=='Manchester United'\n",
    "      or pl[i]=='Leicester City' or pl[i]=='Tottenham Hotspur'):\n",
    "        continue\n",
    "    round2.append(pl[i])"
   ]
  },
  {
   "cell_type": "code",
   "execution_count": 18,
   "metadata": {},
   "outputs": [
    {
     "data": {
      "text/plain": [
       "50"
      ]
     },
     "execution_count": 18,
     "metadata": {},
     "output_type": "execute_result"
    }
   ],
   "source": [
    "len(round2)"
   ]
  },
  {
   "cell_type": "code",
   "execution_count": 19,
   "metadata": {},
   "outputs": [],
   "source": [
    "match2=[]\n",
    "for i in range(50):\n",
    "    x=random.randint(0,len(round2)-1)\n",
    "    match2.append(round2[x])\n",
    "    del[round2[x]]"
   ]
  },
  {
   "cell_type": "code",
   "execution_count": 20,
   "metadata": {},
   "outputs": [
    {
     "name": "stdout",
     "output_type": "stream",
     "text": [
      "Welcome to Round 2 of League Cup.\n",
      "Norwich City VS Ipswich Town .1\n",
      "Derby County VS Northampton Town .2\n",
      "West Ham United VS Southend United .1\n",
      "Cardiff City VS Mansfield Town .1\n",
      "Wolverhampton Wanderers VS Brentford .1\n",
      "Charlton Athletic VS Burnley .1\n",
      "AFC Wimbledon VS Leeds United .2\n",
      "Blackpool VS Crystal Palace .2\n",
      "Luton Town VS Oxford United .2\n",
      "Fleetwood Town VS Rotherham United .1\n",
      "Newcastle United VS Southampton .2\n",
      "Sunderland VS Burton Albion .1\n",
      "Watford VS Brighton & Hove Albion .2\n",
      "West Bromwich Albion VS Macclesfield Town .1\n",
      "Blackburn Rovers VS Huddersfield Town .2\n",
      "Fulham VS Bury .2\n",
      "Wycombe Wanderers VS Aston Villa .2\n",
      "Reading VS Tranmere Rovers .1\n",
      "Oldham Athletic VS Crawley Town .1\n",
      "Birmingham City VS Everton .2\n",
      "Peterborough United VS Bournemouth .2\n",
      "Swansea City VS Sheffield Wednesday .1\n",
      "Walsall VS Sheffield United .2\n",
      "Doncaster Rovers VS Portsmouth .2\n",
      "Wigan Athletic VS Newport County .1\n"
     ]
    }
   ],
   "source": [
    "round3=[]\n",
    "print(\"Welcome to Round 2 of League Cup.\")\n",
    "for i in range(0,len(match2),2):\n",
    "    print(match2[i],end=\"\")\n",
    "    print(\" VS \",end=\"\")\n",
    "    print(match2[i+1],end=\" .\")\n",
    "    m_r=int(input())\n",
    "    if(m_r==1):\n",
    "        round3.append(match2[i])\n",
    "    else:\n",
    "        round3.append(match2[i+1])"
   ]
  },
  {
   "cell_type": "code",
   "execution_count": 21,
   "metadata": {},
   "outputs": [
    {
     "data": {
      "text/plain": [
       "25"
      ]
     },
     "execution_count": 21,
     "metadata": {},
     "output_type": "execute_result"
    }
   ],
   "source": [
    "len(round3)"
   ]
  },
  {
   "cell_type": "code",
   "execution_count": 22,
   "metadata": {},
   "outputs": [],
   "source": [
    "round3.append('Arsenal')\n",
    "round3.append('Chelsea')\n",
    "round3.append('Liverpool')\n",
    "round3.append('Manchester City')\n",
    "round3.append('Tottenham Hotspur')\n",
    "round3.append('Manchester United')\n",
    "round3.append('Leicester City')"
   ]
  },
  {
   "cell_type": "code",
   "execution_count": 23,
   "metadata": {},
   "outputs": [
    {
     "data": {
      "text/plain": [
       "32"
      ]
     },
     "execution_count": 23,
     "metadata": {},
     "output_type": "execute_result"
    }
   ],
   "source": [
    "len(round3)"
   ]
  },
  {
   "cell_type": "code",
   "execution_count": 24,
   "metadata": {},
   "outputs": [],
   "source": [
    "match3=[]\n",
    "for i in range(32):\n",
    "    x=random.randint(0,len(round3)-1)\n",
    "    match3.append(round3[x])\n",
    "    del[round3[x]]"
   ]
  },
  {
   "cell_type": "code",
   "execution_count": 26,
   "metadata": {},
   "outputs": [
    {
     "name": "stdout",
     "output_type": "stream",
     "text": [
      "Welcome to Round 3 of League Cup.\n",
      "Huddersfield Town VS Charlton Athletic .1\n",
      "West Bromwich Albion VS Sheffield United .2\n",
      "Manchester City VS Southampton .1\n",
      "West Ham United VS Oxford United .2\n",
      "Tottenham Hotspur VS Everton .1\n",
      "Liverpool VS Chelsea .1\n",
      "Arsenal VS Aston Villa .1\n",
      "Crystal Palace VS Sunderland .2\n",
      "Norwich City VS Swansea City .1\n",
      "Brighton & Hove Albion VS Manchester United .2\n",
      "Fleetwood Town VS Bournemouth .2\n",
      "Reading VS Wigan Athletic .1\n",
      "Northampton Town VS Portsmouth .1\n",
      "Wolverhampton Wanderers VS Leicester City .1\n",
      "Oldham Athletic VS Leeds United .2\n",
      "Bury VS Cardiff City .2\n"
     ]
    }
   ],
   "source": [
    "round4=[]\n",
    "print(\"Welcome to Round 3 of League Cup.\")\n",
    "for i in range(0,len(match3),2):\n",
    "    print(match3[i],end=\"\")\n",
    "    print(\" VS \",end=\"\")\n",
    "    print(match3[i+1],end=\" .\")\n",
    "    m_r=int(input())\n",
    "    if(m_r==1):\n",
    "        round4.append(match3[i])\n",
    "    else:\n",
    "        round4.append(match3[i+1])"
   ]
  },
  {
   "cell_type": "code",
   "execution_count": 27,
   "metadata": {},
   "outputs": [],
   "source": [
    "match4=[]\n",
    "for i in range(16):\n",
    "    x=random.randint(0,len(round4)-1)\n",
    "    match4.append(round4[x])\n",
    "    del[round4[x]]"
   ]
  },
  {
   "cell_type": "code",
   "execution_count": 28,
   "metadata": {},
   "outputs": [
    {
     "name": "stdout",
     "output_type": "stream",
     "text": [
      "Welcome to Round 4 of League Cup.\n",
      "Northampton Town VS Bournemouth .2\n",
      "Cardiff City VS Manchester City .2\n",
      "Leeds United VS Wolverhampton Wanderers .1\n",
      "Reading VS Manchester United .2\n",
      "Oxford United VS Arsenal .2\n",
      "Norwich City VS Huddersfield Town .1\n",
      "Sunderland VS Liverpool .2\n",
      "Tottenham Hotspur VS Sheffield United .2\n"
     ]
    }
   ],
   "source": [
    "qf_t=[]\n",
    "print(\"Welcome to Round 4 of League Cup.\")\n",
    "for i in range(0,len(match4),2):\n",
    "    print(match4[i],end=\"\")\n",
    "    print(\" VS \",end=\"\")\n",
    "    print(match4[i+1],end=\" .\")\n",
    "    m_r=int(input())\n",
    "    if(m_r==1):\n",
    "        qf_t.append(match4[i])\n",
    "    else:\n",
    "        qf_t.append(match4[i+1])"
   ]
  },
  {
   "cell_type": "code",
   "execution_count": 29,
   "metadata": {},
   "outputs": [],
   "source": [
    "qf=[]\n",
    "for i in range(8):\n",
    "    x=random.randint(0,len(qf_t)-1)\n",
    "    qf.append(qf_t[x])\n",
    "    del[qf_t[x]]"
   ]
  },
  {
   "cell_type": "code",
   "execution_count": 30,
   "metadata": {},
   "outputs": [
    {
     "name": "stdout",
     "output_type": "stream",
     "text": [
      "Welcome to Quarter Finals of League Cup.\n",
      "Manchester City VS Leeds United .1\n",
      "Liverpool VS Arsenal .1\n",
      "Bournemouth VS Norwich City .2\n",
      "Manchester United VS Sheffield United .1\n"
     ]
    }
   ],
   "source": [
    "sf_t=[]\n",
    "print(\"Welcome to Quarter Finals of League Cup.\")\n",
    "for i in range(0,len(qf),2):\n",
    "    print(qf[i],end=\"\")\n",
    "    print(\" VS \",end=\"\")\n",
    "    print(qf[i+1],end=\" .\")\n",
    "    m_r=int(input())\n",
    "    if(m_r==1):\n",
    "        sf_t.append(qf[i])\n",
    "    else:\n",
    "        sf_t.append(qf[i+1])"
   ]
  },
  {
   "cell_type": "code",
   "execution_count": 31,
   "metadata": {},
   "outputs": [],
   "source": [
    "sf=[]\n",
    "for i in range(4):\n",
    "    x=random.randint(0,len(sf_t)-1)\n",
    "    sf.append(sf_t[x])\n",
    "    del[sf_t[x]]"
   ]
  },
  {
   "cell_type": "code",
   "execution_count": 32,
   "metadata": {},
   "outputs": [
    {
     "name": "stdout",
     "output_type": "stream",
     "text": [
      "Welcome to Semi Finals of League Cup.\n",
      "Liverpool VS Manchester United .2\n",
      "Norwich City VS Manchester City .2\n"
     ]
    }
   ],
   "source": [
    "f_t=[]\n",
    "print(\"Welcome to Semi Finals of League Cup.\")\n",
    "for i in range(0,len(sf),2):\n",
    "    print(sf[i],end=\"\")\n",
    "    print(\" VS \",end=\"\")\n",
    "    print(sf[i+1],end=\" .\")\n",
    "    m_r=int(input())\n",
    "    if(m_r==1):\n",
    "        f_t.append(sf[i])\n",
    "    else:\n",
    "        f_t.append(sf[i+1])"
   ]
  },
  {
   "cell_type": "code",
   "execution_count": null,
   "metadata": {},
   "outputs": [
    {
     "name": "stdout",
     "output_type": "stream",
     "text": [
      "Welcome to Final of League Cup.\n",
      "Manchester United VS Manchester City ."
     ]
    }
   ],
   "source": [
    "print(\"Welcome to Final of League Cup.\")\n",
    "print(f_t[0],end=\"\")\n",
    "print(\" VS \",end=\"\")\n",
    "print(f_t[1],end=\" .\")\n",
    "m_r=int(input())\n",
    "lose=0\n",
    "winner=\"\"\n",
    "if(m_r==1):\n",
    "    winner=f_t[0]\n",
    "    lose=1\n",
    "else:\n",
    "    winner=f_t[1]\n",
    "    lose=0\n",
    "print(\"Congratulations:  \"+str(winner))\n",
    "print(\"Runner Up:   \"+str(f_t[lose]))"
   ]
  },
  {
   "cell_type": "code",
   "execution_count": null,
   "metadata": {},
   "outputs": [],
   "source": []
  }
 ],
 "metadata": {
  "kernelspec": {
   "display_name": "Python 3",
   "language": "python",
   "name": "python3"
  },
  "language_info": {
   "codemirror_mode": {
    "name": "ipython",
    "version": 3
   },
   "file_extension": ".py",
   "mimetype": "text/x-python",
   "name": "python",
   "nbconvert_exporter": "python",
   "pygments_lexer": "ipython3",
   "version": "3.7.6"
  }
 },
 "nbformat": 4,
 "nbformat_minor": 2
}
