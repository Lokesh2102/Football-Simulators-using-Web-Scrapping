{
 "cells": [
  {
   "cell_type": "code",
   "execution_count": 1,
   "metadata": {},
   "outputs": [],
   "source": [
    "from bs4 import BeautifulSoup  \n",
    "import requests"
   ]
  },
  {
   "cell_type": "code",
   "execution_count": 2,
   "metadata": {},
   "outputs": [],
   "source": [
    "import random"
   ]
  },
  {
   "cell_type": "code",
   "execution_count": 3,
   "metadata": {},
   "outputs": [],
   "source": [
    "URL='https://en.wikipedia.org/wiki/2019%E2%80%9320_EFL_League_One'\n",
    "content = requests.get(URL)\n",
    "soup = BeautifulSoup(content.text, 'html.parser')\n",
    "te1=soup.find_all(\"table\",class_=\"wikitable sortable\")\n",
    "te2=te1[0].find_all(\"td\")"
   ]
  },
  {
   "cell_type": "code",
   "execution_count": 4,
   "metadata": {},
   "outputs": [],
   "source": [
    "league1=[]\n",
    "for i in range(0,len(te2),4):\n",
    "    league1.append(te2[i].get_text().strip())"
   ]
  },
  {
   "cell_type": "code",
   "execution_count": 5,
   "metadata": {},
   "outputs": [],
   "source": [
    "URL='https://en.wikipedia.org/wiki/2019%E2%80%9320_EFL_League_Two'\n",
    "content = requests.get(URL)\n",
    "soup = BeautifulSoup(content.text, 'html.parser')\n",
    "te1=soup.find_all(\"table\",class_=\"wikitable sortable\")\n",
    "te2=te1[0].find_all(\"td\")"
   ]
  },
  {
   "cell_type": "code",
   "execution_count": 6,
   "metadata": {},
   "outputs": [],
   "source": [
    "league2=[]\n",
    "for i in range(0,len(te2),4):\n",
    "    league2.append(te2[i].get_text().strip())"
   ]
  },
  {
   "cell_type": "code",
   "execution_count": 7,
   "metadata": {},
   "outputs": [],
   "source": [
    "URL='https://en.wikipedia.org/wiki/2019%E2%80%9320_EFL_Championship'\n",
    "content = requests.get(URL)\n",
    "soup = BeautifulSoup(content.text, 'html.parser')\n",
    "te1=soup.find_all(\"table\",class_=\"wikitable sortable\")\n",
    "te2=te1[0].find_all(\"td\")"
   ]
  },
  {
   "cell_type": "code",
   "execution_count": 8,
   "metadata": {},
   "outputs": [],
   "source": [
    "chm=[]\n",
    "for i in range(0,len(te2),4):\n",
    "    chm.append(te2[i].get_text().strip())"
   ]
  },
  {
   "cell_type": "code",
   "execution_count": 9,
   "metadata": {},
   "outputs": [],
   "source": [
    "URL='https://en.wikipedia.org/wiki/2019%E2%80%9320_Premier_League'\n",
    "content = requests.get(URL)\n",
    "soup = BeautifulSoup(content.text, 'html.parser')\n",
    "te1=soup.find_all(\"table\",class_=\"wikitable sortable\")\n",
    "te2=te1[0].find_all(\"td\")"
   ]
  },
  {
   "cell_type": "code",
   "execution_count": 10,
   "metadata": {},
   "outputs": [],
   "source": [
    "pl=[]\n",
    "for i in range(0,len(te2),4):\n",
    "    pl.append(te2[i].get_text().strip())"
   ]
  },
  {
   "cell_type": "code",
   "execution_count": 11,
   "metadata": {},
   "outputs": [
    {
     "data": {
      "text/plain": [
       "48"
      ]
     },
     "execution_count": 11,
     "metadata": {},
     "output_type": "execute_result"
    }
   ],
   "source": [
    "round1=[]\n",
    "for i in league1:\n",
    "    round1.append(i)\n",
    "for i in league2:\n",
    "    round1.append(i)\n",
    "round1.append('Bury')\n",
    "len(round1)"
   ]
  },
  {
   "cell_type": "code",
   "execution_count": 12,
   "metadata": {},
   "outputs": [],
   "source": [
    "match1=[]\n",
    "for i in range(48):\n",
    "    x=random.randint(0,len(round1)-1)\n",
    "    match1.append(round1[x])\n",
    "    del[round1[x]]"
   ]
  },
  {
   "cell_type": "code",
   "execution_count": 13,
   "metadata": {},
   "outputs": [
    {
     "name": "stdout",
     "output_type": "stream",
     "text": [
      "Welcome to First Round Proper of FA Cup.\n",
      "Tranmere Rovers VS Shrewsbury Town .2\n",
      "Macclesfield Town VS Newport County .2\n",
      "Fleetwood Town VS Burton Albion .2\n",
      "Doncaster Rovers VS Grimsby Town .1\n",
      "Crewe Alexandra VS Bradford City .2\n",
      "Bristol Rovers VS Ipswich Town .2\n",
      "Stevenage VS Gillingham .2\n",
      "Portsmouth VS Cheltenham Town .1\n",
      "Morecambe VS Northampton Town .2\n",
      "Rotherham United VS Salford City .1\n",
      "Exeter City VS Lincoln City .2\n",
      "Plymouth Argyle VS Southend United .2\n",
      "Bolton Wanderers VS Forest Green Rovers .1\n",
      "Accrington Stanley VS Oldham Athletic .2\n",
      "Sunderland VS Scunthorpe United .1\n",
      "Walsall VS Wycombe Wanderers .2\n",
      "Cambridge United VS Oxford United .2\n",
      "Colchester United VS Bury .1\n",
      "Crawley Town VS AFC Wimbledon .2\n",
      "Coventry City VS Rochdale .1\n",
      "Peterborough United VS Carlisle United .1\n",
      "Mansfield Town VS Blackpool .2\n",
      "Swindon Town VS Milton Keynes Dons .1\n",
      "Port Vale VS Leyton Orient .1\n"
     ]
    }
   ],
   "source": [
    "round2=[]\n",
    "print(\"Welcome to First Round Proper of FA Cup.\")\n",
    "for i in range(0,len(match1),2):\n",
    "    print(match1[i],end=\"\")\n",
    "    print(\" VS \",end=\"\")\n",
    "    print(match1[i+1],end=\" .\")\n",
    "    m_r=int(input())\n",
    "    if(m_r==1):\n",
    "        round2.append(match1[i])\n",
    "    else:\n",
    "        round2.append(match1[i+1])"
   ]
  },
  {
   "cell_type": "code",
   "execution_count": 14,
   "metadata": {},
   "outputs": [],
   "source": [
    "match2=[]\n",
    "for i in range(24):\n",
    "    x=random.randint(0,len(round2)-1)\n",
    "    match2.append(round2[x])\n",
    "    del[round2[x]]"
   ]
  },
  {
   "cell_type": "code",
   "execution_count": 15,
   "metadata": {},
   "outputs": [
    {
     "name": "stdout",
     "output_type": "stream",
     "text": [
      "Welcome to Second Round Proper of FA Cup.\n",
      "Doncaster Rovers VS Peterborough United .2\n",
      "Sunderland VS Port Vale .1\n",
      "Bolton Wanderers VS Oldham Athletic .2\n",
      "Gillingham VS Rotherham United .2\n",
      "Shrewsbury Town VS Portsmouth .2\n",
      "Swindon Town VS Newport County .1\n",
      "Bradford City VS Lincoln City .1\n",
      "AFC Wimbledon VS Burton Albion .1\n",
      "Colchester United VS Northampton Town .2\n",
      "Wycombe Wanderers VS Coventry City .2\n",
      "Blackpool VS Oxford United .2\n",
      "Ipswich Town VS Southend United .2\n"
     ]
    }
   ],
   "source": [
    "round3=[]\n",
    "rem_t=[]\n",
    "print(\"Welcome to Second Round Proper of FA Cup.\")\n",
    "for i in range(0,len(match2),2):\n",
    "    print(match2[i],end=\"\")\n",
    "    print(\" VS \",end=\"\")\n",
    "    print(match2[i+1],end=\" .\")\n",
    "    m_r=int(input())\n",
    "    if(m_r==1):\n",
    "        round3.append(match2[i])\n",
    "        rem_t.append(match2[i+1])\n",
    "    else:\n",
    "        round3.append(match2[i+1])\n",
    "        rem_t.append(match2[i])"
   ]
  },
  {
   "cell_type": "code",
   "execution_count": 16,
   "metadata": {},
   "outputs": [
    {
     "name": "stdout",
     "output_type": "stream",
     "text": [
      "Remaining Matches\n",
      "Doncaster Rovers VS Port Vale .1\n",
      "Bolton Wanderers VS Gillingham .2\n",
      "Shrewsbury Town VS Newport County .2\n",
      "Lincoln City VS Burton Albion .2\n",
      "Colchester United VS Wycombe Wanderers .1\n",
      "Blackpool VS Ipswich Town .2\n"
     ]
    }
   ],
   "source": [
    "rem_t2=[]\n",
    "print(\"Remaining Matches\")\n",
    "for i in range(0,len(rem_t),2):\n",
    "    print(rem_t[i],end=\"\")\n",
    "    print(\" VS \",end=\"\")\n",
    "    print(rem_t[i+1],end=\" .\")\n",
    "    m_r=int(input())\n",
    "    if(m_r==1):\n",
    "        round3.append(rem_t[i])\n",
    "        rem_t2.append(rem_t[i+1])\n",
    "    else:\n",
    "        round3.append(rem_t[i+1])\n",
    "        rem_t2.append(rem_t[i])"
   ]
  },
  {
   "cell_type": "code",
   "execution_count": 17,
   "metadata": {},
   "outputs": [],
   "source": [
    "rem_t=[]\n",
    "x=random.randint(0,len(rem_t2)-1)\n",
    "rem_t.append(rem_t2[x])\n",
    "del(rem_t2[x])\n",
    "x=random.randint(0,len(rem_t2)-1)\n",
    "rem_t.append(rem_t2[x])\n",
    "del(rem_t2[x])"
   ]
  },
  {
   "cell_type": "code",
   "execution_count": 18,
   "metadata": {},
   "outputs": [
    {
     "name": "stdout",
     "output_type": "stream",
     "text": [
      "Remaining Matches\n",
      "Port Vale VS Bolton Wanderers .2\n",
      "Wycombe Wanderers VS Blackpool .2\n"
     ]
    }
   ],
   "source": [
    "print(\"Remaining Matches\")\n",
    "for i in range(0,len(rem_t2),2):\n",
    "    print(rem_t2[i],end=\"\")\n",
    "    print(\" VS \",end=\"\")\n",
    "    print(rem_t2[i+1],end=\" .\")\n",
    "    m_r=int(input())\n",
    "    if(m_r==1):\n",
    "        rem_t.append(rem_t2[i])\n",
    "    else:\n",
    "        rem_t.append(rem_t2[i+1])"
   ]
  },
  {
   "cell_type": "code",
   "execution_count": 19,
   "metadata": {},
   "outputs": [
    {
     "name": "stdout",
     "output_type": "stream",
     "text": [
      "Remaining Matches\n",
      "Lincoln City VS Shrewsbury Town .1\n",
      "Bolton Wanderers VS Blackpool .2\n"
     ]
    }
   ],
   "source": [
    "print(\"Remaining Matches\")\n",
    "for i in range(0,len(rem_t),2):\n",
    "    print(rem_t[i],end=\"\")\n",
    "    print(\" VS \",end=\"\")\n",
    "    print(rem_t[i+1],end=\" .\")\n",
    "    m_r=int(input())\n",
    "    if(m_r==1):\n",
    "        round3.append(rem_t[i])\n",
    "    else:\n",
    "        round3.append(rem_t[i+1])"
   ]
  },
  {
   "cell_type": "code",
   "execution_count": 20,
   "metadata": {},
   "outputs": [
    {
     "data": {
      "text/plain": [
       "64"
      ]
     },
     "execution_count": 20,
     "metadata": {},
     "output_type": "execute_result"
    }
   ],
   "source": [
    "for i in range(len(chm)):\n",
    "    round3.append(chm[i])\n",
    "for i in range(len(pl)):\n",
    "    round3.append(pl[i])\n",
    "len(round3)"
   ]
  },
  {
   "cell_type": "code",
   "execution_count": 21,
   "metadata": {},
   "outputs": [],
   "source": [
    "match3=[]\n",
    "for i in range(64):\n",
    "    x=random.randint(0,len(round3)-1)\n",
    "    match3.append(round3[x])\n",
    "    del[round3[x]]"
   ]
  },
  {
   "cell_type": "code",
   "execution_count": 22,
   "metadata": {},
   "outputs": [
    {
     "name": "stdout",
     "output_type": "stream",
     "text": [
      "Welcome to Third Round Proper of FA Cup.\n",
      "Manchester City VS West Ham United .1\n",
      "Sheffield United VS Leicester City .1\n",
      "Rotherham United VS Bristol City .2\n",
      "Gillingham VS Barnsley .2\n",
      "Burton Albion VS Stoke City .2\n",
      "Ipswich Town VS Tottenham Hotspur .2\n",
      "Bournemouth VS Millwall .1\n",
      "Watford VS Doncaster Rovers .1\n",
      "Brighton & Hove Albion VS Crystal Palace .2\n",
      "Brentford VS Coventry City .2\n",
      "Cardiff City VS Arsenal .2\n",
      "Portsmouth VS Bradford City .1\n",
      "Newcastle United VS Sheffield Wednesday .1\n",
      "Swindon Town VS Burnley .1\n",
      "Manchester United VS Blackpool .1\n",
      "Everton VS Peterborough United .1\n",
      "Leeds United VS Huddersfield Town .1\n",
      "Norwich City VS Middlesbrough .1\n",
      "Colchester United VS Oldham Athletic .2\n",
      "Newport County VS Derby County .2\n",
      "Chelsea VS Queens Park Rangers .1\n",
      "Oxford United VS Wigan Athletic .1\n",
      "Southend United VS Preston North End .2\n",
      "Birmingham City VS Aston Villa .2\n",
      "West Bromwich Albion VS Liverpool .2\n",
      "Wolverhampton Wanderers VS Nottingham Forest .1\n",
      "Blackburn Rovers VS AFC Wimbledon .2\n",
      "Southampton VS Luton Town .1\n",
      "Sunderland VS Swansea City .1\n",
      "Charlton Athletic VS Fulham .1\n",
      "Reading VS Northampton Town .1\n",
      "Lincoln City VS Hull City .2\n"
     ]
    }
   ],
   "source": [
    "round4=[]\n",
    "print(\"Welcome to Third Round Proper of FA Cup.\")\n",
    "for i in range(0,len(match3),2):\n",
    "    print(match3[i],end=\"\")\n",
    "    print(\" VS \",end=\"\")\n",
    "    print(match3[i+1],end=\" .\")\n",
    "    m_r=int(input())\n",
    "    if(m_r==1):\n",
    "        round4.append(match3[i])\n",
    "    else:\n",
    "        round4.append(match3[i+1])"
   ]
  },
  {
   "cell_type": "code",
   "execution_count": 23,
   "metadata": {},
   "outputs": [],
   "source": [
    "match4=[]\n",
    "for i in range(32):\n",
    "    x=random.randint(0,len(round4)-1)\n",
    "    match4.append(round4[x])\n",
    "    del[round4[x]]"
   ]
  },
  {
   "cell_type": "code",
   "execution_count": 24,
   "metadata": {},
   "outputs": [
    {
     "name": "stdout",
     "output_type": "stream",
     "text": [
      "Welcome to Fourth Round Proper of FA Cup.\n",
      "Crystal Palace VS Wolverhampton Wanderers .1\n",
      "Norwich City VS Everton .2\n",
      "Newcastle United VS Leeds United .2\n",
      "Swindon Town VS Stoke City .2\n",
      "Portsmouth VS Barnsley .1\n",
      "Charlton Athletic VS Oldham Athletic .2\n",
      "Tottenham Hotspur VS Arsenal .1\n",
      "Manchester United VS Derby County .1\n",
      "Hull City VS Oxford United .2\n",
      "Watford VS Bristol City .1\n",
      "Liverpool VS Aston Villa .1\n",
      "Sunderland VS Reading .1\n",
      "Manchester City VS Southampton .1\n",
      "Coventry City VS Bournemouth .2\n",
      "Chelsea VS Sheffield United .2\n",
      "Preston North End VS AFC Wimbledon .2\n"
     ]
    }
   ],
   "source": [
    "round5=[]\n",
    "print(\"Welcome to Fourth Round Proper of FA Cup.\")\n",
    "for i in range(0,len(match4),2):\n",
    "    print(match4[i],end=\"\")\n",
    "    print(\" VS \",end=\"\")\n",
    "    print(match4[i+1],end=\" .\")\n",
    "    m_r=int(input())\n",
    "    if(m_r==1):\n",
    "        round5.append(match4[i])\n",
    "    else:\n",
    "        round5.append(match4[i+1])"
   ]
  },
  {
   "cell_type": "code",
   "execution_count": 25,
   "metadata": {},
   "outputs": [],
   "source": [
    "match5=[]\n",
    "for i in range(16):\n",
    "    x=random.randint(0,len(round5)-1)\n",
    "    match5.append(round5[x])\n",
    "    del[round5[x]]"
   ]
  },
  {
   "cell_type": "code",
   "execution_count": 26,
   "metadata": {},
   "outputs": [
    {
     "name": "stdout",
     "output_type": "stream",
     "text": [
      "Welcome to Fifth Round Proper of FA Cup.\n",
      "Sheffield United VS Bournemouth .1\n",
      "Manchester City VS Sunderland .1\n",
      "Stoke City VS Liverpool .2\n",
      "Oldham Athletic VS Leeds United .2\n",
      "Oxford United VS Manchester United .2\n",
      "Watford VS Tottenham Hotspur .2\n",
      "Everton VS Portsmouth .1\n",
      "Crystal Palace VS AFC Wimbledon .2\n"
     ]
    }
   ],
   "source": [
    "qf_t=[]\n",
    "print(\"Welcome to Fifth Round Proper of FA Cup.\")\n",
    "for i in range(0,len(match5),2):\n",
    "    print(match5[i],end=\"\")\n",
    "    print(\" VS \",end=\"\")\n",
    "    print(match5[i+1],end=\" .\")\n",
    "    m_r=int(input())\n",
    "    if(m_r==1):\n",
    "        qf_t.append(match5[i])\n",
    "    else:\n",
    "        qf_t.append(match5[i+1])"
   ]
  },
  {
   "cell_type": "code",
   "execution_count": 27,
   "metadata": {},
   "outputs": [],
   "source": [
    "qf=[]\n",
    "for i in range(8):\n",
    "    x=random.randint(0,len(qf_t)-1)\n",
    "    qf.append(qf_t[x])\n",
    "    del[qf_t[x]]"
   ]
  },
  {
   "cell_type": "code",
   "execution_count": 28,
   "metadata": {},
   "outputs": [
    {
     "name": "stdout",
     "output_type": "stream",
     "text": [
      "Welcome to Quarter Finals of FA Cup.\n",
      "Tottenham Hotspur VS AFC Wimbledon .1\n",
      "Liverpool VS Everton .1\n",
      "Sheffield United VS Manchester United .2\n",
      "Manchester City VS Leeds United .1\n"
     ]
    }
   ],
   "source": [
    "sf_t=[]\n",
    "print(\"Welcome to Quarter Finals of FA Cup.\")\n",
    "for i in range(0,len(qf),2):\n",
    "    print(qf[i],end=\"\")\n",
    "    print(\" VS \",end=\"\")\n",
    "    print(qf[i+1],end=\" .\")\n",
    "    m_r=int(input())\n",
    "    if(m_r==1):\n",
    "        sf_t.append(qf[i])\n",
    "    else:\n",
    "        sf_t.append(qf[i+1])"
   ]
  },
  {
   "cell_type": "code",
   "execution_count": 29,
   "metadata": {},
   "outputs": [],
   "source": [
    "sf=[]\n",
    "for i in range(4):\n",
    "    x=random.randint(0,len(sf_t)-1)\n",
    "    sf.append(sf_t[x])\n",
    "    del[sf_t[x]]"
   ]
  },
  {
   "cell_type": "code",
   "execution_count": 30,
   "metadata": {},
   "outputs": [
    {
     "name": "stdout",
     "output_type": "stream",
     "text": [
      "Welcome to Semi Finals of FA Cup.\n",
      "Manchester City VS Liverpool .1\n",
      "Tottenham Hotspur VS Manchester United .2\n"
     ]
    }
   ],
   "source": [
    "f_t=[]\n",
    "print(\"Welcome to Semi Finals of FA Cup.\")\n",
    "for i in range(0,len(sf),2):\n",
    "    print(sf[i],end=\"\")\n",
    "    print(\" VS \",end=\"\")\n",
    "    print(sf[i+1],end=\" .\")\n",
    "    m_r=int(input())\n",
    "    if(m_r==1):\n",
    "        f_t.append(sf[i])\n",
    "    else:\n",
    "        f_t.append(sf[i+1])"
   ]
  },
  {
   "cell_type": "code",
   "execution_count": 31,
   "metadata": {},
   "outputs": [
    {
     "name": "stdout",
     "output_type": "stream",
     "text": [
      "Welcome to Final of FA Cup.\n",
      "Manchester City VS Manchester United .1\n",
      "Congratulations:  Manchester City\n",
      "Runner Up:   Manchester United\n"
     ]
    }
   ],
   "source": [
    "print(\"Welcome to Final of FA Cup.\")\n",
    "print(f_t[0],end=\"\")\n",
    "print(\" VS \",end=\"\")\n",
    "print(f_t[1],end=\" .\")\n",
    "m_r=int(input())\n",
    "lose=0\n",
    "winner=\"\"\n",
    "if(m_r==1):\n",
    "    winner=f_t[0]\n",
    "    lose=1\n",
    "else:\n",
    "    winner=f_t[1]\n",
    "    lose=0\n",
    "print(\"Congratulations:  \"+str(winner))\n",
    "print(\"Runner Up:   \"+str(f_t[lose]))"
   ]
  },
  {
   "cell_type": "code",
   "execution_count": null,
   "metadata": {},
   "outputs": [],
   "source": []
  }
 ],
 "metadata": {
  "kernelspec": {
   "display_name": "Python 3",
   "language": "python",
   "name": "python3"
  },
  "language_info": {
   "codemirror_mode": {
    "name": "ipython",
    "version": 3
   },
   "file_extension": ".py",
   "mimetype": "text/x-python",
   "name": "python",
   "nbconvert_exporter": "python",
   "pygments_lexer": "ipython3",
   "version": "3.7.6"
  }
 },
 "nbformat": 4,
 "nbformat_minor": 2
}
